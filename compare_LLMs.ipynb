{
 "cells": [
  {
   "cell_type": "markdown",
   "metadata": {},
   "source": [
    "## Welcome to the Second Lab - Week 1, Day 3\n",
    "\n",
    "Today we will work with lots of models! This is a way to get comfortable with APIs."
   ]
  },
  {
   "cell_type": "markdown",
   "metadata": {},
   "source": [
    "<table style=\"margin: 0; text-align: left; width:100%\">\n",
    "    <tr>\n",
    "        <td style=\"width: 150px; height: 150px; vertical-align: middle;\">\n",
    "            <img src=\"../assets/stop.png\" width=\"150\" height=\"150\" style=\"display: block;\" />\n",
    "        </td>\n",
    "        <td>\n",
    "            <h2 style=\"color:#ff7800;\">Important point - please read</h2>\n",
    "            <span style=\"color:#ff7800;\">The way I collaborate with you may be different to other courses you've taken. I prefer not to type code while you watch. Rather, I execute Jupyter Labs, like this, and give you an intuition for what's going on. My suggestion is that you carefully execute this yourself, <b>after</b> watching the lecture. Add print statements to understand what's going on, and then come up with your own variations.<br/><br/>If you have time, I'd love it if you submit a PR for changes in the community_contributions folder - instructions in the resources. Also, if you have a Github account, use this to showcase your variations. Not only is this essential practice, but it demonstrates your skills to others, including perhaps future clients or employers...\n",
    "            </span>\n",
    "        </td>\n",
    "    </tr>\n",
    "</table>"
   ]
  },
  {
   "cell_type": "code",
   "execution_count": 1,
   "metadata": {},
   "outputs": [],
   "source": [
    "# Start with imports - ask ChatGPT to explain any package that you don't know\n",
    "\n",
    "import os\n",
    "import json\n",
    "from dotenv import load_dotenv\n",
    "from openai import OpenAI\n",
    "from anthropic import Anthropic\n",
    "from IPython.display import Markdown, display"
   ]
  },
  {
   "cell_type": "code",
   "execution_count": 8,
   "metadata": {},
   "outputs": [],
   "source": [
    "import sklearn"
   ]
  },
  {
   "cell_type": "code",
   "execution_count": 2,
   "metadata": {},
   "outputs": [
    {
     "data": {
      "text/plain": [
       "True"
      ]
     },
     "execution_count": 2,
     "metadata": {},
     "output_type": "execute_result"
    }
   ],
   "source": [
    "# Always remember to do this!\n",
    "load_dotenv(override=True)"
   ]
  },
  {
   "cell_type": "code",
   "execution_count": 3,
   "metadata": {},
   "outputs": [
    {
     "name": "stdout",
     "output_type": "stream",
     "text": [
      "OpenAI API Key exists and begins sk-proj-\n",
      "Anthropic API Key exists and begins sk-ant-\n",
      "Google API Key exists and begins AI\n",
      "DeepSeek API Key not set (and this is optional)\n",
      "Groq API Key exists and begins gsk_\n"
     ]
    }
   ],
   "source": [
    "# Print the key prefixes to help with any debugging\n",
    "\n",
    "openai_api_key = os.getenv('OPENAI_API_KEY')\n",
    "anthropic_api_key = os.getenv('ANTHROPIC_API_KEY')\n",
    "google_api_key = os.getenv('GOOGLE_API_KEY')\n",
    "deepseek_api_key = os.getenv('DEEPSEEK_API_KEY')\n",
    "groq_api_key = os.getenv('GROQ_API_KEY')\n",
    "\n",
    "if openai_api_key:\n",
    "    print(f\"OpenAI API Key exists and begins {openai_api_key[:8]}\")\n",
    "else:\n",
    "    print(\"OpenAI API Key not set\")\n",
    "    \n",
    "if anthropic_api_key:\n",
    "    print(f\"Anthropic API Key exists and begins {anthropic_api_key[:7]}\")\n",
    "else:\n",
    "    print(\"Anthropic API Key not set (and this is optional)\")\n",
    "\n",
    "if google_api_key:\n",
    "    print(f\"Google API Key exists and begins {google_api_key[:2]}\")\n",
    "else:\n",
    "    print(\"Google API Key not set (and this is optional)\")\n",
    "\n",
    "if deepseek_api_key:\n",
    "    print(f\"DeepSeek API Key exists and begins {deepseek_api_key[:3]}\")\n",
    "else:\n",
    "    print(\"DeepSeek API Key not set (and this is optional)\")\n",
    "\n",
    "if groq_api_key:\n",
    "    print(f\"Groq API Key exists and begins {groq_api_key[:4]}\")\n",
    "else:\n",
    "    print(\"Groq API Key not set (and this is optional)\")"
   ]
  },
  {
   "cell_type": "code",
   "execution_count": 31,
   "metadata": {},
   "outputs": [],
   "source": [
    "request = \"Please come up with the most suitable LLM application for the education sector. I want to ask different LLMs and compare their results \"\n",
    "request += \"Answer only with the question, no explanation.\"\n",
    "messages = [{\"role\": \"user\", \"content\": request}]"
   ]
  },
  {
   "cell_type": "code",
   "execution_count": 32,
   "metadata": {},
   "outputs": [
    {
     "data": {
      "text/plain": [
       "[{'role': 'user',\n",
       "  'content': 'Please come up with the most suitable LLM application for the education sector. I want to ask different LLMs and compare their results Answer only with the question, no explanation.'}]"
      ]
     },
     "execution_count": 32,
     "metadata": {},
     "output_type": "execute_result"
    }
   ],
   "source": [
    "messages"
   ]
  },
  {
   "cell_type": "code",
   "execution_count": 33,
   "metadata": {},
   "outputs": [
    {
     "name": "stdout",
     "output_type": "stream",
     "text": [
      "What innovative ways can large language models enhance personalized learning experiences for students?\n"
     ]
    }
   ],
   "source": [
    "openai = OpenAI()\n",
    "response = openai.chat.completions.create(\n",
    "    model=\"gpt-4o-mini\",\n",
    "    messages=messages,\n",
    ")\n",
    "question = response.choices[0].message.content\n",
    "print(question)\n"
   ]
  },
  {
   "cell_type": "code",
   "execution_count": 36,
   "metadata": {},
   "outputs": [],
   "source": [
    "competitors = []\n",
    "answers = []\n",
    "messages = [{\"role\": \"user\", \"content\": question}]"
   ]
  },
  {
   "cell_type": "code",
   "execution_count": 37,
   "metadata": {},
   "outputs": [
    {
     "data": {
      "text/markdown": [
       "Large language models (LLMs) can significantly enhance personalized learning experiences for students through various innovative approaches. Here are some ways they can be leveraged in educational settings:\n",
       "\n",
       "1. **Adaptive Learning Paths**: LLMs can analyze a student’s performance and learning style to create customized learning paths. By assessing strengths and weaknesses, they can recommend specific resources, activities, or topics tailored to each student's needs.\n",
       "\n",
       "2. **Intelligent Tutoring Systems**: LLMs can serve as virtual tutors that provide real-time assistance. They can answer questions, explain complex concepts, and offer feedback on assignments or practice exercises, adapting their responses based on the student's level of understanding.\n",
       "\n",
       "3. **Personalized Content Creation**: With their ability to generate text, LLMs can create personalized reading materials, quizzes, and practice exercises. Educators can use them to generate content that matches the interests and reading levels of individual students.\n",
       "\n",
       "4. **Natural Language Interaction**: LLMs can facilitate natural language conversations with students, allowing them to ask questions and engage in discussions in a more intuitive manner. This helps students feel more comfortable seeking help and exploring topics in depth.\n",
       "\n",
       "5. **Multi-Modal Learning Support**: LLMs can integrate with other AI technologies to provide a multi-modal learning experience. For instance, they can assist in generating visual aids, interactive simulations, or audio content that caters to different learning styles (visual, auditory, kinesthetic).\n",
       "\n",
       "6. **Exam and Practice Personalized Feedback**: By analyzing student answers to practice questions or exams, LLMs can provide detailed feedback, highlighting areas for improvement as well as suggesting additional resources or practice questions.\n",
       "\n",
       "7. **Gamified Learning Experiences**: LLMs can be utilized to design gamified educational experiences, generating narratives, challenges, and scenarios that engage students while promoting active learning and problem-solving.\n",
       "\n",
       "8. **Emotion and Engagement Monitoring**: By analyzing students' interactions and responses, LLMs can gauge their emotional state and engagement levels. This information can help educators modify their approaches to better meet students' emotional and educational needs.\n",
       "\n",
       "9. **Peer Interaction Facilitation**: LLMs can assist in forming study groups or peer interactions by analyzing students’ interests and knowledge levels, suggesting partners for collaborative projects, or facilitating discussions through prompts.\n",
       "\n",
       "10. **Longitudinal Learning Tracking**: LLMs can help build comprehensive profiles of student progress over time, providing educators insights into long-term trends and allowing for even more targeted interventions.\n",
       "\n",
       "11. **Language and Communication Support**: For students learning new languages, LLMs can offer personalized conversation practice, vocabulary building, and writing assistance, adapting to their proficiency levels and learning preferences.\n",
       "\n",
       "12. **Incorporation of Current Events and Contextual Learning**: LLMs can integrate current events or relevant cultural references into learning materials, making lessons more relatable and engaging for students.\n",
       "\n",
       "By harnessing the capabilities of large language models in these ways, educational institutions can create more dynamic, engaging, and personalized learning experiences that cater to the diverse needs of students."
      ],
      "text/plain": [
       "<IPython.core.display.Markdown object>"
      ]
     },
     "metadata": {},
     "output_type": "display_data"
    }
   ],
   "source": [
    "# The API we know well\n",
    "\n",
    "model_name = \"gpt-4o-mini\"\n",
    "\n",
    "response = openai.chat.completions.create(model=model_name, messages=messages)\n",
    "answer = response.choices[0].message.content\n",
    "\n",
    "display(Markdown(answer))\n",
    "competitors.append(model_name)\n",
    "answers.append(answer)"
   ]
  },
  {
   "cell_type": "code",
   "execution_count": 35,
   "metadata": {},
   "outputs": [
    {
     "data": {
      "text/markdown": [
       "# Innovative Ways LLMs Can Enhance Personalized Learning\n",
       "\n",
       "## Adaptive Content Generation\n",
       "- Create customized reading materials that match individual reading levels while maintaining core concepts\n",
       "- Generate practice problems targeting specific skill gaps identified through assessment\n",
       "- Develop multiple explanations of difficult concepts using analogies relevant to each student's interests\n",
       "\n",
       "## Interactive Learning Companions\n",
       "- Provide 24/7 tutoring with contextual memory of previous sessions and challenges\n",
       "- Implement Socratic questioning techniques that guide students toward discoveries rather than providing answers\n",
       "- Offer emotional support and motivation tailored to individual learning styles and frustration thresholds\n",
       "\n",
       "## Assessment and Feedback\n",
       "- Generate detailed, constructive feedback on assignments beyond simple grading\n",
       "- Create dynamic assessments that adapt difficulty based on real-time performance\n",
       "- Help teachers identify patterns in student work that indicate misconceptions\n",
       "\n",
       "## Accessibility Enhancements\n",
       "- Convert materials between formats (text, simplified language, visual explanations) based on learning needs\n",
       "- Provide multilingual support for language learners or multilingual classrooms\n",
       "- Generate culturally relevant examples that connect course material to diverse student backgrounds\n",
       "\n",
       "## Meta-Learning Support\n",
       "- Coach students on effective study strategies based on their learning patterns\n",
       "- Help students reflect on their thinking processes through guided journaling\n",
       "- Facilitate collaborative learning by suggesting complementary group pairings based on skills\n",
       "\n",
       "What aspects of personalized learning would you like to explore further?"
      ],
      "text/plain": [
       "<IPython.core.display.Markdown object>"
      ]
     },
     "metadata": {},
     "output_type": "display_data"
    }
   ],
   "source": [
    "# Anthropic has a slightly different API, and Max Tokens is required\n",
    "\n",
    "model_name = \"claude-3-7-sonnet-latest\"\n",
    "\n",
    "claude = Anthropic()\n",
    "response = claude.messages.create(model=model_name, messages=messages, max_tokens=1000)\n",
    "answer = response.content[0].text\n",
    "\n",
    "display(Markdown(answer))\n",
    "competitors.append(model_name)\n",
    "answers.append(answer)"
   ]
  },
  {
   "cell_type": "code",
   "execution_count": 38,
   "metadata": {},
   "outputs": [
    {
     "data": {
      "text/markdown": [
       "Large language models (LLMs) offer a wealth of opportunities to revolutionize personalized learning experiences for students. Here are some innovative ways they can be utilized:\n",
       "\n",
       "**1. AI-Powered Personalized Content Creation and Adaptation:**\n",
       "\n",
       "*   **Dynamic Textbook Adaptation:** Instead of static textbooks, LLMs can generate dynamic content based on a student's current understanding and learning style. They can simplify complex concepts, provide alternative explanations, offer more examples, or even present the information in a different format (e.g., story, analogy, infographic).\n",
       "*   **Customized Practice Problems:** LLMs can generate practice problems tailored to specific student weaknesses.  These problems can increase in difficulty as the student progresses, providing a continuously challenging and engaging learning experience. They can also provide hints and worked solutions tailored to the student's mistakes.\n",
       "*   **Adaptive Reading Material:** LLMs can adjust the reading level and subject matter of articles, stories, or other learning materials to match the student's reading comprehension and interests. This keeps them engaged and prevents discouragement from overly difficult or uninteresting content.\n",
       "*   **Personalized Summarization and Note-Taking:** LLMs can generate personalized summaries of texts or lectures, highlighting the most important information for each student based on their learning goals and prior knowledge.  They can also help students take better notes by identifying key concepts and suggesting connections between ideas.\n",
       "\n",
       "**2. Intelligent Tutoring and Feedback:**\n",
       "\n",
       "*   **AI Tutors:** LLMs can act as virtual tutors, providing one-on-one support and guidance to students. They can answer questions, explain concepts, provide feedback on assignments, and even offer encouragement and motivation.\n",
       "*   **Real-Time Feedback on Writing and Code:** LLMs can provide instant feedback on student writing, identifying grammar errors, suggesting improvements to sentence structure, and offering suggestions for enhancing clarity and argumentation.  Similarly, they can provide feedback on student code, identifying errors, suggesting optimizations, and explaining coding concepts.\n",
       "*   **Personalized Learning Pathways:** LLMs can analyze a student's performance and identify areas where they need more support or where they are ready to move on to more advanced material.  They can then generate personalized learning pathways that optimize the student's learning journey.\n",
       "*   **Simulating Real-World Scenarios:** LLMs can create realistic simulations that allow students to practice applying their knowledge in a safe and engaging environment. For example, they could simulate a historical event, a scientific experiment, or a business negotiation.\n",
       "\n",
       "**3. Personalized Assessment and Evaluation:**\n",
       "\n",
       "*   **Formative Assessment Generation:** LLMs can create personalized quizzes and assessments that are tailored to the student's learning needs and progress. These assessments can be used to track student understanding and identify areas where they need more support.\n",
       "*   **Adaptive Testing:** LLMs can dynamically adjust the difficulty of test questions based on the student's performance.  This ensures that the test is challenging but not overwhelming, and provides a more accurate assessment of the student's abilities.\n",
       "*   **Automated Grading and Feedback:** LLMs can automate the grading of certain types of assignments, such as essays and code. They can also provide personalized feedback to students on their work, highlighting areas where they excelled and areas where they need to improve.\n",
       "*   **Identifying Learning Styles:** By analyzing student interactions with the learning platform, LLMs can help identify their preferred learning styles (e.g., visual, auditory, kinesthetic) and tailor the learning experience accordingly.\n",
       "\n",
       "**4. Enhanced Collaboration and Communication:**\n",
       "\n",
       "*   **Facilitating Group Projects:** LLMs can help students collaborate more effectively on group projects by providing feedback on their ideas, suggesting resources, and helping them manage their time.\n",
       "*   **Language Translation and Accessibility:** LLMs can translate learning materials into multiple languages, making education more accessible to students from diverse backgrounds. They can also generate alternative text descriptions for images and videos, making them accessible to visually impaired students.\n",
       "*   **Personalized Study Groups:** LLMs can analyze student performance and interests to create personalized study groups. These groups can help students learn from each other and support each other's learning.\n",
       "*   **Providing Personalized Writing Prompts for Discussion:** LLMs can craft engaging and thought-provoking writing prompts tailored to individual students' interests, encouraging deeper exploration of the subject matter in class discussions.\n",
       "\n",
       "**5. Addressing Accessibility and Equity:**\n",
       "\n",
       "*   **Personalized Support for Students with Disabilities:** LLMs can provide personalized support to students with disabilities, such as text-to-speech, speech-to-text, and customized learning materials.\n",
       "*   **Bridging Achievement Gaps:** LLMs can identify students who are struggling and provide them with targeted support to help them catch up.  They can also provide personalized learning experiences that address the specific needs of students from diverse backgrounds.\n",
       "*   **Lowering the Cost of Education:** LLMs can automate many of the tasks that are currently performed by teachers, such as grading assignments and providing feedback. This can help to lower the cost of education and make it more accessible to all students.\n",
       "\n",
       "**Challenges and Considerations:**\n",
       "\n",
       "*   **Data Privacy and Security:** It is crucial to protect student data privacy and security when using LLMs in education.  Data should be anonymized and used only for educational purposes.\n",
       "*   **Bias and Fairness:** LLMs can be biased based on the data they are trained on. It is important to identify and mitigate these biases to ensure that all students receive a fair and equitable learning experience.\n",
       "*   **Ethical Considerations:** It is important to consider the ethical implications of using LLMs in education, such as the potential for cheating and the impact on the teacher-student relationship.\n",
       "*   **Teacher Training and Support:** Teachers need to be trained on how to use LLMs effectively and how to integrate them into their teaching practices.  They also need ongoing support to ensure that they are using these tools appropriately.\n",
       "*   **Over-Reliance and Critical Thinking:**  It's essential to prevent students from becoming overly reliant on LLMs.  Education should still emphasize critical thinking, problem-solving, and creativity, rather than simply relying on the AI for answers.\n",
       "\n",
       "By addressing these challenges and considerations, large language models have the potential to transform education and create more personalized, engaging, and effective learning experiences for all students. They are not a replacement for teachers, but rather powerful tools that can augment their abilities and help them better meet the needs of their students.\n"
      ],
      "text/plain": [
       "<IPython.core.display.Markdown object>"
      ]
     },
     "metadata": {},
     "output_type": "display_data"
    }
   ],
   "source": [
    "gemini = OpenAI(api_key=google_api_key, base_url=\"https://generativelanguage.googleapis.com/v1beta/openai/\")\n",
    "model_name = \"gemini-2.0-flash\"\n",
    "\n",
    "response = gemini.chat.completions.create(model=model_name, messages=messages)\n",
    "answer = response.choices[0].message.content\n",
    "\n",
    "display(Markdown(answer))\n",
    "competitors.append(model_name)\n",
    "answers.append(answer)"
   ]
  },
  {
   "cell_type": "code",
   "execution_count": null,
   "metadata": {},
   "outputs": [],
   "source": [
    "deepseek = OpenAI(api_key=deepseek_api_key, base_url=\"https://api.deepseek.com/v1\")\n",
    "model_name = \"deepseek-chat\"\n",
    "\n",
    "response = deepseek.chat.completions.create(model=model_name, messages=messages)\n",
    "answer = response.choices[0].message.content\n",
    "\n",
    "display(Markdown(answer))\n",
    "competitors.append(model_name)\n",
    "answers.append(answer)"
   ]
  },
  {
   "cell_type": "code",
   "execution_count": 39,
   "metadata": {},
   "outputs": [
    {
     "data": {
      "text/markdown": [
       "Large language models (LLMs) have the potential to revolutionize personalized learning experiences for students. Here are some innovative ways LLMs can enhance personalized learning:\n",
       "\n",
       "1. **Adaptive Learning Paths**: LLMs can analyze a student's strengths, weaknesses, and learning style to create customized learning paths. They can adjust the difficulty level, content, and pace of the learning material in real-time, ensuring that students are challenged but not overwhelmed.\n",
       "2. **Intelligent Tutoring Systems**: LLMs can function as virtual tutors, providing one-on-one support to students. They can identify knowledge gaps, offer real-time feedback, and suggest additional resources to help students overcome obstacles.\n",
       "3. **Natural Language Processing (NLP) Based Assessments**: LLMs can assess student understanding through NLP-based evaluations, which can analyze written or spoken responses to questions. This allows for more nuanced and accurate assessments, beyond traditional multiple-choice questions.\n",
       "4. **Personalized Learning Recommendations**: LLMs can analyze student preferences, interests, and learning outcomes to recommend relevant learning resources, such as videos, articles, or interactive simulations.\n",
       "5. **Automated Essay Scoring and Feedback**: LLMs can evaluate and provide feedback on student essays, saving instructors time and providing students with instant feedback on their writing.\n",
       "6. **Chatbots for Student Support**: LLM-powered chatbots can offer 24/7 support to students, answering questions, providing study tips, and helping with course navigation.\n",
       "7. **Simulated Conversations and Role-Playing**: LLMs can engage students in simulated conversations and role-playing activities, helping them develop essential skills such as communication, empathy, and problem-solving.\n",
       "8. **Content Generation and Curation**: LLMs can generate high-quality educational content, such as study guides, quizzes, and interactive exercises, tailored to specific learning objectives and student needs.\n",
       "9. **Learning Analytics and Insights**: LLMs can analyze vast amounts of data to provide instructors with actionable insights on student learning patterns, helping them identify areas of improvement and optimize their teaching strategies.\n",
       "10. **Inclusive Learning Experiences**: LLMs can help create more inclusive learning environments by providing support for students with disabilities, such as text-to-speech functionality, language translation, and accommodations for students with learning disabilities.\n",
       "11. **Microlearning and Bite-Sized Content**: LLMs can break down complex topics into bite-sized, easily digestible chunks, making it easier for students to learn and retain information.\n",
       "12. **Virtual Learning Environments**: LLMs can help create immersive virtual learning environments that simulate real-world scenarios, making learning more engaging and interactive.\n",
       "13. **Peer-to-Peer Learning and Discussion Forums**: LLMs can facilitate peer-to-peer learning and discussion forums, where students can engage with each other, share knowledge, and learn from one another.\n",
       "14. **Real-World Applications and Case Studies**: LLMs can provide students with real-world examples and case studies, helping them connect theoretical concepts to practical applications.\n",
       "15. **Continuous Learning and Skill Development**: LLMs can offer students opportunities for continuous learning and skill development, helping them stay up-to-date with the latest industry trends and technologies.\n",
       "\n",
       "By leveraging these innovative applications of LLMs, educators can create more effective, personalized, and engaging learning experiences for students, ultimately leading to improved academic outcomes and increased student satisfaction."
      ],
      "text/plain": [
       "<IPython.core.display.Markdown object>"
      ]
     },
     "metadata": {},
     "output_type": "display_data"
    }
   ],
   "source": [
    "groq = OpenAI(api_key=groq_api_key, base_url=\"https://api.groq.com/openai/v1\")\n",
    "model_name = \"llama-3.3-70b-versatile\"\n",
    "\n",
    "response = groq.chat.completions.create(model=model_name, messages=messages)\n",
    "answer = response.choices[0].message.content\n",
    "\n",
    "display(Markdown(answer))\n",
    "competitors.append(model_name)\n",
    "answers.append(answer)\n"
   ]
  },
  {
   "cell_type": "markdown",
   "metadata": {},
   "source": [
    "## For the next cell, we will use Ollama\n",
    "\n",
    "Ollama runs a local web service that gives an OpenAI compatible endpoint,  \n",
    "and runs models locally using high performance C++ code.\n",
    "\n",
    "If you don't have Ollama, install it here by visiting https://ollama.com then pressing Download and following the instructions.\n",
    "\n",
    "After it's installed, you should be able to visit here: http://localhost:11434 and see the message \"Ollama is running\"\n",
    "\n",
    "You might need to restart Cursor (and maybe reboot). Then open a Terminal (control+\\`) and run `ollama serve`\n",
    "\n",
    "Useful Ollama commands (run these in the terminal, or with an exclamation mark in this notebook):\n",
    "\n",
    "`ollama pull <model_name>` downloads a model locally  \n",
    "`ollama ls` lists all the models you've downloaded  \n",
    "`ollama rm <model_name>` deletes the specified model from your downloads"
   ]
  },
  {
   "cell_type": "markdown",
   "metadata": {},
   "source": [
    "<table style=\"margin: 0; text-align: left; width:100%\">\n",
    "    <tr>\n",
    "        <td style=\"width: 150px; height: 150px; vertical-align: middle;\">\n",
    "            <img src=\"../assets/stop.png\" width=\"150\" height=\"150\" style=\"display: block;\" />\n",
    "        </td>\n",
    "        <td>\n",
    "            <h2 style=\"color:#ff7800;\">Super important - ignore me at your peril!</h2>\n",
    "            <span style=\"color:#ff7800;\">The model called <b>llama3.3</b> is FAR too large for home computers - it's not intended for personal computing and will consume all your resources! Stick with the nicely sized <b>llama3.2</b> or <b>llama3.2:1b</b> and if you want larger, try llama3.1 or smaller variants of Qwen, Gemma, Phi or DeepSeek. See the <A href=\"https://ollama.com/models\">the Ollama models page</a> for a full list of models and sizes.\n",
    "            </span>\n",
    "        </td>\n",
    "    </tr>\n",
    "</table>"
   ]
  },
  {
   "cell_type": "code",
   "execution_count": 20,
   "metadata": {},
   "outputs": [
    {
     "name": "stdout",
     "output_type": "stream",
     "text": [
      "\u001b[?2026h\u001b[?25l\u001b[1Gpulling manifest ⠋ \u001b[K\u001b[?25h\u001b[?2026l\u001b[?2026h\u001b[?25l\u001b[1Gpulling manifest ⠙ \u001b[K\u001b[?25h\u001b[?2026l\u001b[?2026h\u001b[?25l\u001b[1Gpulling manifest ⠹ \u001b[K\u001b[?25h\u001b[?2026l\u001b[?2026h\u001b[?25l\u001b[1Gpulling manifest ⠸ \u001b[K\u001b[?25h\u001b[?2026l\u001b[?2026h\u001b[?25l\u001b[1Gpulling manifest ⠼ \u001b[K\u001b[?25h\u001b[?2026l\u001b[?2026h\u001b[?25l\u001b[1Gpulling manifest ⠴ \u001b[K\u001b[?25h\u001b[?2026l\u001b[?2026h\u001b[?25l\u001b[1Gpulling manifest ⠦ \u001b[K\u001b[?25h\u001b[?2026l\u001b[?2026h\u001b[?25l\u001b[1Gpulling manifest ⠧ \u001b[K\u001b[?25h\u001b[?2026l\u001b[?2026h\u001b[?25l\u001b[1Gpulling manifest ⠇ \u001b[K\u001b[?25h\u001b[?2026l\u001b[?2026h\u001b[?25l\u001b[1Gpulling manifest ⠏ \u001b[K\u001b[?25h\u001b[?2026l\u001b[?2026h\u001b[?25l\u001b[1Gpulling manifest ⠋ \u001b[K\u001b[?25h\u001b[?2026l\u001b[?2026h\u001b[?25l\u001b[1Gpulling manifest \u001b[K\n",
      "pulling dde5aa3fc5ff... 100% ▕████████████████▏ 2.0 GB                         \u001b[K\n",
      "pulling 966de95ca8a6... 100% ▕████████████████▏ 1.4 KB                         \u001b[K\n",
      "pulling fcc5a6bec9da... 100% ▕████████████████▏ 7.7 KB                         \u001b[K\n",
      "pulling a70ff7e570d9... 100% ▕████████████████▏ 6.0 KB                         \u001b[K\n",
      "pulling 56bb8bd477a5... 100% ▕████████████████▏   96 B                         \u001b[K\n",
      "pulling 34bb5ab01051... 100% ▕████████████████▏  561 B                         \u001b[K\n",
      "verifying sha256 digest \u001b[K\n",
      "writing manifest \u001b[K\n",
      "success \u001b[K\u001b[?25h\u001b[?2026l\n"
     ]
    }
   ],
   "source": [
    "!ollama pull llama3.2"
   ]
  },
  {
   "cell_type": "code",
   "execution_count": 40,
   "metadata": {},
   "outputs": [
    {
     "data": {
      "text/markdown": [
       "Large language models can significantly enhance personalized learning experiences for students in several innovative ways:\n",
       "\n",
       "1. **Adaptive content generation**: Large language models can generate customized learning materials, such as videos, articles, and exercises, tailored to individual students' needs, abilities, and interests.\n",
       "2. **Learning pathways creation**: These models can help create personalized learning pathways based on student performance data, identifying areas where they need improvement and suggesting targeted resources for support.\n",
       "3. **Intelligent tutoring systems**: Large language models can develop a conversational interface with students, providing one-on-one instruction, feedback, and guidance in real-time, making it feel like having a virtual tutor.\n",
       "4. **Automated grading and assessment**: These models can evaluate student responses, providing instant feedback on accuracy, completeness, and understanding, freeing teachers to focus on high-touch, human interaction.\n",
       "5. **Language proficiency assessment and improvement**: Large language models can assess student language skills and identify areas where they need practice, generating customized exercises and activities to help improve proficiency.\n",
       "6. **Learning analytics and insights**: These models can analyze large datasets of student interactions, providing detailed insights into learning behaviors, preferences, and needs, allowing educators to refine their instructional strategies.\n",
       "7. **Personalized content recommendations**: Large language models can suggest relevant learning resources based on individual students' interests, skills, and learning styles, helping them explore topics that fascinate them.\n",
       "8. **Simulations and gamification**: These models can create engaging simulations, games, and interactive activities that make learning more enjoyable and effective, increasing student motivation and engagement.\n",
       "9. **Accessibility and inclusivity**: Large language models can facilitate the creation of accessible learning materials for students with disabilities, such as text-to-speech functionality, closed captions, or alt-text for images.\n",
       "10. **Continuous assessment and evaluation**: These models can continuously assess student progress, identifying knowledge gaps and emerging trends in learning styles, enabling educators to adjust their teaching strategies accordingly.\n",
       "\n",
       "By leveraging the capabilities of large language models, educators can create more personalized, effective, and engaging learning experiences that cater to individual students' needs and foster a more inclusive and supportive educational environment."
      ],
      "text/plain": [
       "<IPython.core.display.Markdown object>"
      ]
     },
     "metadata": {},
     "output_type": "display_data"
    }
   ],
   "source": [
    "ollama = OpenAI(base_url='http://localhost:11434/v1', api_key='ollama')\n",
    "model_name = \"llama3.2\"\n",
    "\n",
    "response = ollama.chat.completions.create(model=model_name, messages=messages)\n",
    "answer = response.choices[0].message.content\n",
    "\n",
    "display(Markdown(answer))\n",
    "competitors.append(model_name)\n",
    "answers.append(answer)"
   ]
  },
  {
   "cell_type": "code",
   "execution_count": 41,
   "metadata": {},
   "outputs": [
    {
     "name": "stdout",
     "output_type": "stream",
     "text": [
      "['gpt-4o-mini', 'gemini-2.0-flash', 'llama-3.3-70b-versatile', 'llama3.2']\n",
      "[\"Large language models (LLMs) can significantly enhance personalized learning experiences for students through various innovative approaches. Here are some ways they can be leveraged in educational settings:\\n\\n1. **Adaptive Learning Paths**: LLMs can analyze a student’s performance and learning style to create customized learning paths. By assessing strengths and weaknesses, they can recommend specific resources, activities, or topics tailored to each student's needs.\\n\\n2. **Intelligent Tutoring Systems**: LLMs can serve as virtual tutors that provide real-time assistance. They can answer questions, explain complex concepts, and offer feedback on assignments or practice exercises, adapting their responses based on the student's level of understanding.\\n\\n3. **Personalized Content Creation**: With their ability to generate text, LLMs can create personalized reading materials, quizzes, and practice exercises. Educators can use them to generate content that matches the interests and reading levels of individual students.\\n\\n4. **Natural Language Interaction**: LLMs can facilitate natural language conversations with students, allowing them to ask questions and engage in discussions in a more intuitive manner. This helps students feel more comfortable seeking help and exploring topics in depth.\\n\\n5. **Multi-Modal Learning Support**: LLMs can integrate with other AI technologies to provide a multi-modal learning experience. For instance, they can assist in generating visual aids, interactive simulations, or audio content that caters to different learning styles (visual, auditory, kinesthetic).\\n\\n6. **Exam and Practice Personalized Feedback**: By analyzing student answers to practice questions or exams, LLMs can provide detailed feedback, highlighting areas for improvement as well as suggesting additional resources or practice questions.\\n\\n7. **Gamified Learning Experiences**: LLMs can be utilized to design gamified educational experiences, generating narratives, challenges, and scenarios that engage students while promoting active learning and problem-solving.\\n\\n8. **Emotion and Engagement Monitoring**: By analyzing students' interactions and responses, LLMs can gauge their emotional state and engagement levels. This information can help educators modify their approaches to better meet students' emotional and educational needs.\\n\\n9. **Peer Interaction Facilitation**: LLMs can assist in forming study groups or peer interactions by analyzing students’ interests and knowledge levels, suggesting partners for collaborative projects, or facilitating discussions through prompts.\\n\\n10. **Longitudinal Learning Tracking**: LLMs can help build comprehensive profiles of student progress over time, providing educators insights into long-term trends and allowing for even more targeted interventions.\\n\\n11. **Language and Communication Support**: For students learning new languages, LLMs can offer personalized conversation practice, vocabulary building, and writing assistance, adapting to their proficiency levels and learning preferences.\\n\\n12. **Incorporation of Current Events and Contextual Learning**: LLMs can integrate current events or relevant cultural references into learning materials, making lessons more relatable and engaging for students.\\n\\nBy harnessing the capabilities of large language models in these ways, educational institutions can create more dynamic, engaging, and personalized learning experiences that cater to the diverse needs of students.\", \"Large language models (LLMs) offer a wealth of opportunities to revolutionize personalized learning experiences for students. Here are some innovative ways they can be utilized:\\n\\n**1. AI-Powered Personalized Content Creation and Adaptation:**\\n\\n*   **Dynamic Textbook Adaptation:** Instead of static textbooks, LLMs can generate dynamic content based on a student's current understanding and learning style. They can simplify complex concepts, provide alternative explanations, offer more examples, or even present the information in a different format (e.g., story, analogy, infographic).\\n*   **Customized Practice Problems:** LLMs can generate practice problems tailored to specific student weaknesses.  These problems can increase in difficulty as the student progresses, providing a continuously challenging and engaging learning experience. They can also provide hints and worked solutions tailored to the student's mistakes.\\n*   **Adaptive Reading Material:** LLMs can adjust the reading level and subject matter of articles, stories, or other learning materials to match the student's reading comprehension and interests. This keeps them engaged and prevents discouragement from overly difficult or uninteresting content.\\n*   **Personalized Summarization and Note-Taking:** LLMs can generate personalized summaries of texts or lectures, highlighting the most important information for each student based on their learning goals and prior knowledge.  They can also help students take better notes by identifying key concepts and suggesting connections between ideas.\\n\\n**2. Intelligent Tutoring and Feedback:**\\n\\n*   **AI Tutors:** LLMs can act as virtual tutors, providing one-on-one support and guidance to students. They can answer questions, explain concepts, provide feedback on assignments, and even offer encouragement and motivation.\\n*   **Real-Time Feedback on Writing and Code:** LLMs can provide instant feedback on student writing, identifying grammar errors, suggesting improvements to sentence structure, and offering suggestions for enhancing clarity and argumentation.  Similarly, they can provide feedback on student code, identifying errors, suggesting optimizations, and explaining coding concepts.\\n*   **Personalized Learning Pathways:** LLMs can analyze a student's performance and identify areas where they need more support or where they are ready to move on to more advanced material.  They can then generate personalized learning pathways that optimize the student's learning journey.\\n*   **Simulating Real-World Scenarios:** LLMs can create realistic simulations that allow students to practice applying their knowledge in a safe and engaging environment. For example, they could simulate a historical event, a scientific experiment, or a business negotiation.\\n\\n**3. Personalized Assessment and Evaluation:**\\n\\n*   **Formative Assessment Generation:** LLMs can create personalized quizzes and assessments that are tailored to the student's learning needs and progress. These assessments can be used to track student understanding and identify areas where they need more support.\\n*   **Adaptive Testing:** LLMs can dynamically adjust the difficulty of test questions based on the student's performance.  This ensures that the test is challenging but not overwhelming, and provides a more accurate assessment of the student's abilities.\\n*   **Automated Grading and Feedback:** LLMs can automate the grading of certain types of assignments, such as essays and code. They can also provide personalized feedback to students on their work, highlighting areas where they excelled and areas where they need to improve.\\n*   **Identifying Learning Styles:** By analyzing student interactions with the learning platform, LLMs can help identify their preferred learning styles (e.g., visual, auditory, kinesthetic) and tailor the learning experience accordingly.\\n\\n**4. Enhanced Collaboration and Communication:**\\n\\n*   **Facilitating Group Projects:** LLMs can help students collaborate more effectively on group projects by providing feedback on their ideas, suggesting resources, and helping them manage their time.\\n*   **Language Translation and Accessibility:** LLMs can translate learning materials into multiple languages, making education more accessible to students from diverse backgrounds. They can also generate alternative text descriptions for images and videos, making them accessible to visually impaired students.\\n*   **Personalized Study Groups:** LLMs can analyze student performance and interests to create personalized study groups. These groups can help students learn from each other and support each other's learning.\\n*   **Providing Personalized Writing Prompts for Discussion:** LLMs can craft engaging and thought-provoking writing prompts tailored to individual students' interests, encouraging deeper exploration of the subject matter in class discussions.\\n\\n**5. Addressing Accessibility and Equity:**\\n\\n*   **Personalized Support for Students with Disabilities:** LLMs can provide personalized support to students with disabilities, such as text-to-speech, speech-to-text, and customized learning materials.\\n*   **Bridging Achievement Gaps:** LLMs can identify students who are struggling and provide them with targeted support to help them catch up.  They can also provide personalized learning experiences that address the specific needs of students from diverse backgrounds.\\n*   **Lowering the Cost of Education:** LLMs can automate many of the tasks that are currently performed by teachers, such as grading assignments and providing feedback. This can help to lower the cost of education and make it more accessible to all students.\\n\\n**Challenges and Considerations:**\\n\\n*   **Data Privacy and Security:** It is crucial to protect student data privacy and security when using LLMs in education.  Data should be anonymized and used only for educational purposes.\\n*   **Bias and Fairness:** LLMs can be biased based on the data they are trained on. It is important to identify and mitigate these biases to ensure that all students receive a fair and equitable learning experience.\\n*   **Ethical Considerations:** It is important to consider the ethical implications of using LLMs in education, such as the potential for cheating and the impact on the teacher-student relationship.\\n*   **Teacher Training and Support:** Teachers need to be trained on how to use LLMs effectively and how to integrate them into their teaching practices.  They also need ongoing support to ensure that they are using these tools appropriately.\\n*   **Over-Reliance and Critical Thinking:**  It's essential to prevent students from becoming overly reliant on LLMs.  Education should still emphasize critical thinking, problem-solving, and creativity, rather than simply relying on the AI for answers.\\n\\nBy addressing these challenges and considerations, large language models have the potential to transform education and create more personalized, engaging, and effective learning experiences for all students. They are not a replacement for teachers, but rather powerful tools that can augment their abilities and help them better meet the needs of their students.\\n\", \"Large language models (LLMs) have the potential to revolutionize personalized learning experiences for students. Here are some innovative ways LLMs can enhance personalized learning:\\n\\n1. **Adaptive Learning Paths**: LLMs can analyze a student's strengths, weaknesses, and learning style to create customized learning paths. They can adjust the difficulty level, content, and pace of the learning material in real-time, ensuring that students are challenged but not overwhelmed.\\n2. **Intelligent Tutoring Systems**: LLMs can function as virtual tutors, providing one-on-one support to students. They can identify knowledge gaps, offer real-time feedback, and suggest additional resources to help students overcome obstacles.\\n3. **Natural Language Processing (NLP) Based Assessments**: LLMs can assess student understanding through NLP-based evaluations, which can analyze written or spoken responses to questions. This allows for more nuanced and accurate assessments, beyond traditional multiple-choice questions.\\n4. **Personalized Learning Recommendations**: LLMs can analyze student preferences, interests, and learning outcomes to recommend relevant learning resources, such as videos, articles, or interactive simulations.\\n5. **Automated Essay Scoring and Feedback**: LLMs can evaluate and provide feedback on student essays, saving instructors time and providing students with instant feedback on their writing.\\n6. **Chatbots for Student Support**: LLM-powered chatbots can offer 24/7 support to students, answering questions, providing study tips, and helping with course navigation.\\n7. **Simulated Conversations and Role-Playing**: LLMs can engage students in simulated conversations and role-playing activities, helping them develop essential skills such as communication, empathy, and problem-solving.\\n8. **Content Generation and Curation**: LLMs can generate high-quality educational content, such as study guides, quizzes, and interactive exercises, tailored to specific learning objectives and student needs.\\n9. **Learning Analytics and Insights**: LLMs can analyze vast amounts of data to provide instructors with actionable insights on student learning patterns, helping them identify areas of improvement and optimize their teaching strategies.\\n10. **Inclusive Learning Experiences**: LLMs can help create more inclusive learning environments by providing support for students with disabilities, such as text-to-speech functionality, language translation, and accommodations for students with learning disabilities.\\n11. **Microlearning and Bite-Sized Content**: LLMs can break down complex topics into bite-sized, easily digestible chunks, making it easier for students to learn and retain information.\\n12. **Virtual Learning Environments**: LLMs can help create immersive virtual learning environments that simulate real-world scenarios, making learning more engaging and interactive.\\n13. **Peer-to-Peer Learning and Discussion Forums**: LLMs can facilitate peer-to-peer learning and discussion forums, where students can engage with each other, share knowledge, and learn from one another.\\n14. **Real-World Applications and Case Studies**: LLMs can provide students with real-world examples and case studies, helping them connect theoretical concepts to practical applications.\\n15. **Continuous Learning and Skill Development**: LLMs can offer students opportunities for continuous learning and skill development, helping them stay up-to-date with the latest industry trends and technologies.\\n\\nBy leveraging these innovative applications of LLMs, educators can create more effective, personalized, and engaging learning experiences for students, ultimately leading to improved academic outcomes and increased student satisfaction.\", \"Large language models can significantly enhance personalized learning experiences for students in several innovative ways:\\n\\n1. **Adaptive content generation**: Large language models can generate customized learning materials, such as videos, articles, and exercises, tailored to individual students' needs, abilities, and interests.\\n2. **Learning pathways creation**: These models can help create personalized learning pathways based on student performance data, identifying areas where they need improvement and suggesting targeted resources for support.\\n3. **Intelligent tutoring systems**: Large language models can develop a conversational interface with students, providing one-on-one instruction, feedback, and guidance in real-time, making it feel like having a virtual tutor.\\n4. **Automated grading and assessment**: These models can evaluate student responses, providing instant feedback on accuracy, completeness, and understanding, freeing teachers to focus on high-touch, human interaction.\\n5. **Language proficiency assessment and improvement**: Large language models can assess student language skills and identify areas where they need practice, generating customized exercises and activities to help improve proficiency.\\n6. **Learning analytics and insights**: These models can analyze large datasets of student interactions, providing detailed insights into learning behaviors, preferences, and needs, allowing educators to refine their instructional strategies.\\n7. **Personalized content recommendations**: Large language models can suggest relevant learning resources based on individual students' interests, skills, and learning styles, helping them explore topics that fascinate them.\\n8. **Simulations and gamification**: These models can create engaging simulations, games, and interactive activities that make learning more enjoyable and effective, increasing student motivation and engagement.\\n9. **Accessibility and inclusivity**: Large language models can facilitate the creation of accessible learning materials for students with disabilities, such as text-to-speech functionality, closed captions, or alt-text for images.\\n10. **Continuous assessment and evaluation**: These models can continuously assess student progress, identifying knowledge gaps and emerging trends in learning styles, enabling educators to adjust their teaching strategies accordingly.\\n\\nBy leveraging the capabilities of large language models, educators can create more personalized, effective, and engaging learning experiences that cater to individual students' needs and foster a more inclusive and supportive educational environment.\"]\n"
     ]
    }
   ],
   "source": [
    "# So where are we?\n",
    "\n",
    "print(competitors)\n",
    "print(answers)\n"
   ]
  },
  {
   "cell_type": "code",
   "execution_count": 42,
   "metadata": {},
   "outputs": [
    {
     "name": "stdout",
     "output_type": "stream",
     "text": [
      "Competitor: gpt-4o-mini\n",
      "\n",
      "Large language models (LLMs) can significantly enhance personalized learning experiences for students through various innovative approaches. Here are some ways they can be leveraged in educational settings:\n",
      "\n",
      "1. **Adaptive Learning Paths**: LLMs can analyze a student’s performance and learning style to create customized learning paths. By assessing strengths and weaknesses, they can recommend specific resources, activities, or topics tailored to each student's needs.\n",
      "\n",
      "2. **Intelligent Tutoring Systems**: LLMs can serve as virtual tutors that provide real-time assistance. They can answer questions, explain complex concepts, and offer feedback on assignments or practice exercises, adapting their responses based on the student's level of understanding.\n",
      "\n",
      "3. **Personalized Content Creation**: With their ability to generate text, LLMs can create personalized reading materials, quizzes, and practice exercises. Educators can use them to generate content that matches the interests and reading levels of individual students.\n",
      "\n",
      "4. **Natural Language Interaction**: LLMs can facilitate natural language conversations with students, allowing them to ask questions and engage in discussions in a more intuitive manner. This helps students feel more comfortable seeking help and exploring topics in depth.\n",
      "\n",
      "5. **Multi-Modal Learning Support**: LLMs can integrate with other AI technologies to provide a multi-modal learning experience. For instance, they can assist in generating visual aids, interactive simulations, or audio content that caters to different learning styles (visual, auditory, kinesthetic).\n",
      "\n",
      "6. **Exam and Practice Personalized Feedback**: By analyzing student answers to practice questions or exams, LLMs can provide detailed feedback, highlighting areas for improvement as well as suggesting additional resources or practice questions.\n",
      "\n",
      "7. **Gamified Learning Experiences**: LLMs can be utilized to design gamified educational experiences, generating narratives, challenges, and scenarios that engage students while promoting active learning and problem-solving.\n",
      "\n",
      "8. **Emotion and Engagement Monitoring**: By analyzing students' interactions and responses, LLMs can gauge their emotional state and engagement levels. This information can help educators modify their approaches to better meet students' emotional and educational needs.\n",
      "\n",
      "9. **Peer Interaction Facilitation**: LLMs can assist in forming study groups or peer interactions by analyzing students’ interests and knowledge levels, suggesting partners for collaborative projects, or facilitating discussions through prompts.\n",
      "\n",
      "10. **Longitudinal Learning Tracking**: LLMs can help build comprehensive profiles of student progress over time, providing educators insights into long-term trends and allowing for even more targeted interventions.\n",
      "\n",
      "11. **Language and Communication Support**: For students learning new languages, LLMs can offer personalized conversation practice, vocabulary building, and writing assistance, adapting to their proficiency levels and learning preferences.\n",
      "\n",
      "12. **Incorporation of Current Events and Contextual Learning**: LLMs can integrate current events or relevant cultural references into learning materials, making lessons more relatable and engaging for students.\n",
      "\n",
      "By harnessing the capabilities of large language models in these ways, educational institutions can create more dynamic, engaging, and personalized learning experiences that cater to the diverse needs of students.\n",
      "Competitor: gemini-2.0-flash\n",
      "\n",
      "Large language models (LLMs) offer a wealth of opportunities to revolutionize personalized learning experiences for students. Here are some innovative ways they can be utilized:\n",
      "\n",
      "**1. AI-Powered Personalized Content Creation and Adaptation:**\n",
      "\n",
      "*   **Dynamic Textbook Adaptation:** Instead of static textbooks, LLMs can generate dynamic content based on a student's current understanding and learning style. They can simplify complex concepts, provide alternative explanations, offer more examples, or even present the information in a different format (e.g., story, analogy, infographic).\n",
      "*   **Customized Practice Problems:** LLMs can generate practice problems tailored to specific student weaknesses.  These problems can increase in difficulty as the student progresses, providing a continuously challenging and engaging learning experience. They can also provide hints and worked solutions tailored to the student's mistakes.\n",
      "*   **Adaptive Reading Material:** LLMs can adjust the reading level and subject matter of articles, stories, or other learning materials to match the student's reading comprehension and interests. This keeps them engaged and prevents discouragement from overly difficult or uninteresting content.\n",
      "*   **Personalized Summarization and Note-Taking:** LLMs can generate personalized summaries of texts or lectures, highlighting the most important information for each student based on their learning goals and prior knowledge.  They can also help students take better notes by identifying key concepts and suggesting connections between ideas.\n",
      "\n",
      "**2. Intelligent Tutoring and Feedback:**\n",
      "\n",
      "*   **AI Tutors:** LLMs can act as virtual tutors, providing one-on-one support and guidance to students. They can answer questions, explain concepts, provide feedback on assignments, and even offer encouragement and motivation.\n",
      "*   **Real-Time Feedback on Writing and Code:** LLMs can provide instant feedback on student writing, identifying grammar errors, suggesting improvements to sentence structure, and offering suggestions for enhancing clarity and argumentation.  Similarly, they can provide feedback on student code, identifying errors, suggesting optimizations, and explaining coding concepts.\n",
      "*   **Personalized Learning Pathways:** LLMs can analyze a student's performance and identify areas where they need more support or where they are ready to move on to more advanced material.  They can then generate personalized learning pathways that optimize the student's learning journey.\n",
      "*   **Simulating Real-World Scenarios:** LLMs can create realistic simulations that allow students to practice applying their knowledge in a safe and engaging environment. For example, they could simulate a historical event, a scientific experiment, or a business negotiation.\n",
      "\n",
      "**3. Personalized Assessment and Evaluation:**\n",
      "\n",
      "*   **Formative Assessment Generation:** LLMs can create personalized quizzes and assessments that are tailored to the student's learning needs and progress. These assessments can be used to track student understanding and identify areas where they need more support.\n",
      "*   **Adaptive Testing:** LLMs can dynamically adjust the difficulty of test questions based on the student's performance.  This ensures that the test is challenging but not overwhelming, and provides a more accurate assessment of the student's abilities.\n",
      "*   **Automated Grading and Feedback:** LLMs can automate the grading of certain types of assignments, such as essays and code. They can also provide personalized feedback to students on their work, highlighting areas where they excelled and areas where they need to improve.\n",
      "*   **Identifying Learning Styles:** By analyzing student interactions with the learning platform, LLMs can help identify their preferred learning styles (e.g., visual, auditory, kinesthetic) and tailor the learning experience accordingly.\n",
      "\n",
      "**4. Enhanced Collaboration and Communication:**\n",
      "\n",
      "*   **Facilitating Group Projects:** LLMs can help students collaborate more effectively on group projects by providing feedback on their ideas, suggesting resources, and helping them manage their time.\n",
      "*   **Language Translation and Accessibility:** LLMs can translate learning materials into multiple languages, making education more accessible to students from diverse backgrounds. They can also generate alternative text descriptions for images and videos, making them accessible to visually impaired students.\n",
      "*   **Personalized Study Groups:** LLMs can analyze student performance and interests to create personalized study groups. These groups can help students learn from each other and support each other's learning.\n",
      "*   **Providing Personalized Writing Prompts for Discussion:** LLMs can craft engaging and thought-provoking writing prompts tailored to individual students' interests, encouraging deeper exploration of the subject matter in class discussions.\n",
      "\n",
      "**5. Addressing Accessibility and Equity:**\n",
      "\n",
      "*   **Personalized Support for Students with Disabilities:** LLMs can provide personalized support to students with disabilities, such as text-to-speech, speech-to-text, and customized learning materials.\n",
      "*   **Bridging Achievement Gaps:** LLMs can identify students who are struggling and provide them with targeted support to help them catch up.  They can also provide personalized learning experiences that address the specific needs of students from diverse backgrounds.\n",
      "*   **Lowering the Cost of Education:** LLMs can automate many of the tasks that are currently performed by teachers, such as grading assignments and providing feedback. This can help to lower the cost of education and make it more accessible to all students.\n",
      "\n",
      "**Challenges and Considerations:**\n",
      "\n",
      "*   **Data Privacy and Security:** It is crucial to protect student data privacy and security when using LLMs in education.  Data should be anonymized and used only for educational purposes.\n",
      "*   **Bias and Fairness:** LLMs can be biased based on the data they are trained on. It is important to identify and mitigate these biases to ensure that all students receive a fair and equitable learning experience.\n",
      "*   **Ethical Considerations:** It is important to consider the ethical implications of using LLMs in education, such as the potential for cheating and the impact on the teacher-student relationship.\n",
      "*   **Teacher Training and Support:** Teachers need to be trained on how to use LLMs effectively and how to integrate them into their teaching practices.  They also need ongoing support to ensure that they are using these tools appropriately.\n",
      "*   **Over-Reliance and Critical Thinking:**  It's essential to prevent students from becoming overly reliant on LLMs.  Education should still emphasize critical thinking, problem-solving, and creativity, rather than simply relying on the AI for answers.\n",
      "\n",
      "By addressing these challenges and considerations, large language models have the potential to transform education and create more personalized, engaging, and effective learning experiences for all students. They are not a replacement for teachers, but rather powerful tools that can augment their abilities and help them better meet the needs of their students.\n",
      "\n",
      "Competitor: llama-3.3-70b-versatile\n",
      "\n",
      "Large language models (LLMs) have the potential to revolutionize personalized learning experiences for students. Here are some innovative ways LLMs can enhance personalized learning:\n",
      "\n",
      "1. **Adaptive Learning Paths**: LLMs can analyze a student's strengths, weaknesses, and learning style to create customized learning paths. They can adjust the difficulty level, content, and pace of the learning material in real-time, ensuring that students are challenged but not overwhelmed.\n",
      "2. **Intelligent Tutoring Systems**: LLMs can function as virtual tutors, providing one-on-one support to students. They can identify knowledge gaps, offer real-time feedback, and suggest additional resources to help students overcome obstacles.\n",
      "3. **Natural Language Processing (NLP) Based Assessments**: LLMs can assess student understanding through NLP-based evaluations, which can analyze written or spoken responses to questions. This allows for more nuanced and accurate assessments, beyond traditional multiple-choice questions.\n",
      "4. **Personalized Learning Recommendations**: LLMs can analyze student preferences, interests, and learning outcomes to recommend relevant learning resources, such as videos, articles, or interactive simulations.\n",
      "5. **Automated Essay Scoring and Feedback**: LLMs can evaluate and provide feedback on student essays, saving instructors time and providing students with instant feedback on their writing.\n",
      "6. **Chatbots for Student Support**: LLM-powered chatbots can offer 24/7 support to students, answering questions, providing study tips, and helping with course navigation.\n",
      "7. **Simulated Conversations and Role-Playing**: LLMs can engage students in simulated conversations and role-playing activities, helping them develop essential skills such as communication, empathy, and problem-solving.\n",
      "8. **Content Generation and Curation**: LLMs can generate high-quality educational content, such as study guides, quizzes, and interactive exercises, tailored to specific learning objectives and student needs.\n",
      "9. **Learning Analytics and Insights**: LLMs can analyze vast amounts of data to provide instructors with actionable insights on student learning patterns, helping them identify areas of improvement and optimize their teaching strategies.\n",
      "10. **Inclusive Learning Experiences**: LLMs can help create more inclusive learning environments by providing support for students with disabilities, such as text-to-speech functionality, language translation, and accommodations for students with learning disabilities.\n",
      "11. **Microlearning and Bite-Sized Content**: LLMs can break down complex topics into bite-sized, easily digestible chunks, making it easier for students to learn and retain information.\n",
      "12. **Virtual Learning Environments**: LLMs can help create immersive virtual learning environments that simulate real-world scenarios, making learning more engaging and interactive.\n",
      "13. **Peer-to-Peer Learning and Discussion Forums**: LLMs can facilitate peer-to-peer learning and discussion forums, where students can engage with each other, share knowledge, and learn from one another.\n",
      "14. **Real-World Applications and Case Studies**: LLMs can provide students with real-world examples and case studies, helping them connect theoretical concepts to practical applications.\n",
      "15. **Continuous Learning and Skill Development**: LLMs can offer students opportunities for continuous learning and skill development, helping them stay up-to-date with the latest industry trends and technologies.\n",
      "\n",
      "By leveraging these innovative applications of LLMs, educators can create more effective, personalized, and engaging learning experiences for students, ultimately leading to improved academic outcomes and increased student satisfaction.\n",
      "Competitor: llama3.2\n",
      "\n",
      "Large language models can significantly enhance personalized learning experiences for students in several innovative ways:\n",
      "\n",
      "1. **Adaptive content generation**: Large language models can generate customized learning materials, such as videos, articles, and exercises, tailored to individual students' needs, abilities, and interests.\n",
      "2. **Learning pathways creation**: These models can help create personalized learning pathways based on student performance data, identifying areas where they need improvement and suggesting targeted resources for support.\n",
      "3. **Intelligent tutoring systems**: Large language models can develop a conversational interface with students, providing one-on-one instruction, feedback, and guidance in real-time, making it feel like having a virtual tutor.\n",
      "4. **Automated grading and assessment**: These models can evaluate student responses, providing instant feedback on accuracy, completeness, and understanding, freeing teachers to focus on high-touch, human interaction.\n",
      "5. **Language proficiency assessment and improvement**: Large language models can assess student language skills and identify areas where they need practice, generating customized exercises and activities to help improve proficiency.\n",
      "6. **Learning analytics and insights**: These models can analyze large datasets of student interactions, providing detailed insights into learning behaviors, preferences, and needs, allowing educators to refine their instructional strategies.\n",
      "7. **Personalized content recommendations**: Large language models can suggest relevant learning resources based on individual students' interests, skills, and learning styles, helping them explore topics that fascinate them.\n",
      "8. **Simulations and gamification**: These models can create engaging simulations, games, and interactive activities that make learning more enjoyable and effective, increasing student motivation and engagement.\n",
      "9. **Accessibility and inclusivity**: Large language models can facilitate the creation of accessible learning materials for students with disabilities, such as text-to-speech functionality, closed captions, or alt-text for images.\n",
      "10. **Continuous assessment and evaluation**: These models can continuously assess student progress, identifying knowledge gaps and emerging trends in learning styles, enabling educators to adjust their teaching strategies accordingly.\n",
      "\n",
      "By leveraging the capabilities of large language models, educators can create more personalized, effective, and engaging learning experiences that cater to individual students' needs and foster a more inclusive and supportive educational environment.\n"
     ]
    }
   ],
   "source": [
    "# It's nice to know how to use \"zip\"\n",
    "for competitor, answer in zip(competitors, answers):\n",
    "    print(f\"Competitor: {competitor}\\n\\n{answer}\")\n"
   ]
  },
  {
   "cell_type": "code",
   "execution_count": 43,
   "metadata": {},
   "outputs": [],
   "source": [
    "# Let's bring this together - note the use of \"enumerate\"\n",
    "\n",
    "together = \"\"\n",
    "for index, answer in enumerate(answers):\n",
    "    together += f\"# Response from competitor {index+1}\\n\\n\"\n",
    "    together += answer + \"\\n\\n\""
   ]
  },
  {
   "cell_type": "code",
   "execution_count": 44,
   "metadata": {},
   "outputs": [
    {
     "name": "stdout",
     "output_type": "stream",
     "text": [
      "# Response from competitor 1\n",
      "\n",
      "Large language models (LLMs) can significantly enhance personalized learning experiences for students through various innovative approaches. Here are some ways they can be leveraged in educational settings:\n",
      "\n",
      "1. **Adaptive Learning Paths**: LLMs can analyze a student’s performance and learning style to create customized learning paths. By assessing strengths and weaknesses, they can recommend specific resources, activities, or topics tailored to each student's needs.\n",
      "\n",
      "2. **Intelligent Tutoring Systems**: LLMs can serve as virtual tutors that provide real-time assistance. They can answer questions, explain complex concepts, and offer feedback on assignments or practice exercises, adapting their responses based on the student's level of understanding.\n",
      "\n",
      "3. **Personalized Content Creation**: With their ability to generate text, LLMs can create personalized reading materials, quizzes, and practice exercises. Educators can use them to generate content that matches the interests and reading levels of individual students.\n",
      "\n",
      "4. **Natural Language Interaction**: LLMs can facilitate natural language conversations with students, allowing them to ask questions and engage in discussions in a more intuitive manner. This helps students feel more comfortable seeking help and exploring topics in depth.\n",
      "\n",
      "5. **Multi-Modal Learning Support**: LLMs can integrate with other AI technologies to provide a multi-modal learning experience. For instance, they can assist in generating visual aids, interactive simulations, or audio content that caters to different learning styles (visual, auditory, kinesthetic).\n",
      "\n",
      "6. **Exam and Practice Personalized Feedback**: By analyzing student answers to practice questions or exams, LLMs can provide detailed feedback, highlighting areas for improvement as well as suggesting additional resources or practice questions.\n",
      "\n",
      "7. **Gamified Learning Experiences**: LLMs can be utilized to design gamified educational experiences, generating narratives, challenges, and scenarios that engage students while promoting active learning and problem-solving.\n",
      "\n",
      "8. **Emotion and Engagement Monitoring**: By analyzing students' interactions and responses, LLMs can gauge their emotional state and engagement levels. This information can help educators modify their approaches to better meet students' emotional and educational needs.\n",
      "\n",
      "9. **Peer Interaction Facilitation**: LLMs can assist in forming study groups or peer interactions by analyzing students’ interests and knowledge levels, suggesting partners for collaborative projects, or facilitating discussions through prompts.\n",
      "\n",
      "10. **Longitudinal Learning Tracking**: LLMs can help build comprehensive profiles of student progress over time, providing educators insights into long-term trends and allowing for even more targeted interventions.\n",
      "\n",
      "11. **Language and Communication Support**: For students learning new languages, LLMs can offer personalized conversation practice, vocabulary building, and writing assistance, adapting to their proficiency levels and learning preferences.\n",
      "\n",
      "12. **Incorporation of Current Events and Contextual Learning**: LLMs can integrate current events or relevant cultural references into learning materials, making lessons more relatable and engaging for students.\n",
      "\n",
      "By harnessing the capabilities of large language models in these ways, educational institutions can create more dynamic, engaging, and personalized learning experiences that cater to the diverse needs of students.\n",
      "\n",
      "# Response from competitor 2\n",
      "\n",
      "Large language models (LLMs) offer a wealth of opportunities to revolutionize personalized learning experiences for students. Here are some innovative ways they can be utilized:\n",
      "\n",
      "**1. AI-Powered Personalized Content Creation and Adaptation:**\n",
      "\n",
      "*   **Dynamic Textbook Adaptation:** Instead of static textbooks, LLMs can generate dynamic content based on a student's current understanding and learning style. They can simplify complex concepts, provide alternative explanations, offer more examples, or even present the information in a different format (e.g., story, analogy, infographic).\n",
      "*   **Customized Practice Problems:** LLMs can generate practice problems tailored to specific student weaknesses.  These problems can increase in difficulty as the student progresses, providing a continuously challenging and engaging learning experience. They can also provide hints and worked solutions tailored to the student's mistakes.\n",
      "*   **Adaptive Reading Material:** LLMs can adjust the reading level and subject matter of articles, stories, or other learning materials to match the student's reading comprehension and interests. This keeps them engaged and prevents discouragement from overly difficult or uninteresting content.\n",
      "*   **Personalized Summarization and Note-Taking:** LLMs can generate personalized summaries of texts or lectures, highlighting the most important information for each student based on their learning goals and prior knowledge.  They can also help students take better notes by identifying key concepts and suggesting connections between ideas.\n",
      "\n",
      "**2. Intelligent Tutoring and Feedback:**\n",
      "\n",
      "*   **AI Tutors:** LLMs can act as virtual tutors, providing one-on-one support and guidance to students. They can answer questions, explain concepts, provide feedback on assignments, and even offer encouragement and motivation.\n",
      "*   **Real-Time Feedback on Writing and Code:** LLMs can provide instant feedback on student writing, identifying grammar errors, suggesting improvements to sentence structure, and offering suggestions for enhancing clarity and argumentation.  Similarly, they can provide feedback on student code, identifying errors, suggesting optimizations, and explaining coding concepts.\n",
      "*   **Personalized Learning Pathways:** LLMs can analyze a student's performance and identify areas where they need more support or where they are ready to move on to more advanced material.  They can then generate personalized learning pathways that optimize the student's learning journey.\n",
      "*   **Simulating Real-World Scenarios:** LLMs can create realistic simulations that allow students to practice applying their knowledge in a safe and engaging environment. For example, they could simulate a historical event, a scientific experiment, or a business negotiation.\n",
      "\n",
      "**3. Personalized Assessment and Evaluation:**\n",
      "\n",
      "*   **Formative Assessment Generation:** LLMs can create personalized quizzes and assessments that are tailored to the student's learning needs and progress. These assessments can be used to track student understanding and identify areas where they need more support.\n",
      "*   **Adaptive Testing:** LLMs can dynamically adjust the difficulty of test questions based on the student's performance.  This ensures that the test is challenging but not overwhelming, and provides a more accurate assessment of the student's abilities.\n",
      "*   **Automated Grading and Feedback:** LLMs can automate the grading of certain types of assignments, such as essays and code. They can also provide personalized feedback to students on their work, highlighting areas where they excelled and areas where they need to improve.\n",
      "*   **Identifying Learning Styles:** By analyzing student interactions with the learning platform, LLMs can help identify their preferred learning styles (e.g., visual, auditory, kinesthetic) and tailor the learning experience accordingly.\n",
      "\n",
      "**4. Enhanced Collaboration and Communication:**\n",
      "\n",
      "*   **Facilitating Group Projects:** LLMs can help students collaborate more effectively on group projects by providing feedback on their ideas, suggesting resources, and helping them manage their time.\n",
      "*   **Language Translation and Accessibility:** LLMs can translate learning materials into multiple languages, making education more accessible to students from diverse backgrounds. They can also generate alternative text descriptions for images and videos, making them accessible to visually impaired students.\n",
      "*   **Personalized Study Groups:** LLMs can analyze student performance and interests to create personalized study groups. These groups can help students learn from each other and support each other's learning.\n",
      "*   **Providing Personalized Writing Prompts for Discussion:** LLMs can craft engaging and thought-provoking writing prompts tailored to individual students' interests, encouraging deeper exploration of the subject matter in class discussions.\n",
      "\n",
      "**5. Addressing Accessibility and Equity:**\n",
      "\n",
      "*   **Personalized Support for Students with Disabilities:** LLMs can provide personalized support to students with disabilities, such as text-to-speech, speech-to-text, and customized learning materials.\n",
      "*   **Bridging Achievement Gaps:** LLMs can identify students who are struggling and provide them with targeted support to help them catch up.  They can also provide personalized learning experiences that address the specific needs of students from diverse backgrounds.\n",
      "*   **Lowering the Cost of Education:** LLMs can automate many of the tasks that are currently performed by teachers, such as grading assignments and providing feedback. This can help to lower the cost of education and make it more accessible to all students.\n",
      "\n",
      "**Challenges and Considerations:**\n",
      "\n",
      "*   **Data Privacy and Security:** It is crucial to protect student data privacy and security when using LLMs in education.  Data should be anonymized and used only for educational purposes.\n",
      "*   **Bias and Fairness:** LLMs can be biased based on the data they are trained on. It is important to identify and mitigate these biases to ensure that all students receive a fair and equitable learning experience.\n",
      "*   **Ethical Considerations:** It is important to consider the ethical implications of using LLMs in education, such as the potential for cheating and the impact on the teacher-student relationship.\n",
      "*   **Teacher Training and Support:** Teachers need to be trained on how to use LLMs effectively and how to integrate them into their teaching practices.  They also need ongoing support to ensure that they are using these tools appropriately.\n",
      "*   **Over-Reliance and Critical Thinking:**  It's essential to prevent students from becoming overly reliant on LLMs.  Education should still emphasize critical thinking, problem-solving, and creativity, rather than simply relying on the AI for answers.\n",
      "\n",
      "By addressing these challenges and considerations, large language models have the potential to transform education and create more personalized, engaging, and effective learning experiences for all students. They are not a replacement for teachers, but rather powerful tools that can augment their abilities and help them better meet the needs of their students.\n",
      "\n",
      "\n",
      "# Response from competitor 3\n",
      "\n",
      "Large language models (LLMs) have the potential to revolutionize personalized learning experiences for students. Here are some innovative ways LLMs can enhance personalized learning:\n",
      "\n",
      "1. **Adaptive Learning Paths**: LLMs can analyze a student's strengths, weaknesses, and learning style to create customized learning paths. They can adjust the difficulty level, content, and pace of the learning material in real-time, ensuring that students are challenged but not overwhelmed.\n",
      "2. **Intelligent Tutoring Systems**: LLMs can function as virtual tutors, providing one-on-one support to students. They can identify knowledge gaps, offer real-time feedback, and suggest additional resources to help students overcome obstacles.\n",
      "3. **Natural Language Processing (NLP) Based Assessments**: LLMs can assess student understanding through NLP-based evaluations, which can analyze written or spoken responses to questions. This allows for more nuanced and accurate assessments, beyond traditional multiple-choice questions.\n",
      "4. **Personalized Learning Recommendations**: LLMs can analyze student preferences, interests, and learning outcomes to recommend relevant learning resources, such as videos, articles, or interactive simulations.\n",
      "5. **Automated Essay Scoring and Feedback**: LLMs can evaluate and provide feedback on student essays, saving instructors time and providing students with instant feedback on their writing.\n",
      "6. **Chatbots for Student Support**: LLM-powered chatbots can offer 24/7 support to students, answering questions, providing study tips, and helping with course navigation.\n",
      "7. **Simulated Conversations and Role-Playing**: LLMs can engage students in simulated conversations and role-playing activities, helping them develop essential skills such as communication, empathy, and problem-solving.\n",
      "8. **Content Generation and Curation**: LLMs can generate high-quality educational content, such as study guides, quizzes, and interactive exercises, tailored to specific learning objectives and student needs.\n",
      "9. **Learning Analytics and Insights**: LLMs can analyze vast amounts of data to provide instructors with actionable insights on student learning patterns, helping them identify areas of improvement and optimize their teaching strategies.\n",
      "10. **Inclusive Learning Experiences**: LLMs can help create more inclusive learning environments by providing support for students with disabilities, such as text-to-speech functionality, language translation, and accommodations for students with learning disabilities.\n",
      "11. **Microlearning and Bite-Sized Content**: LLMs can break down complex topics into bite-sized, easily digestible chunks, making it easier for students to learn and retain information.\n",
      "12. **Virtual Learning Environments**: LLMs can help create immersive virtual learning environments that simulate real-world scenarios, making learning more engaging and interactive.\n",
      "13. **Peer-to-Peer Learning and Discussion Forums**: LLMs can facilitate peer-to-peer learning and discussion forums, where students can engage with each other, share knowledge, and learn from one another.\n",
      "14. **Real-World Applications and Case Studies**: LLMs can provide students with real-world examples and case studies, helping them connect theoretical concepts to practical applications.\n",
      "15. **Continuous Learning and Skill Development**: LLMs can offer students opportunities for continuous learning and skill development, helping them stay up-to-date with the latest industry trends and technologies.\n",
      "\n",
      "By leveraging these innovative applications of LLMs, educators can create more effective, personalized, and engaging learning experiences for students, ultimately leading to improved academic outcomes and increased student satisfaction.\n",
      "\n",
      "# Response from competitor 4\n",
      "\n",
      "Large language models can significantly enhance personalized learning experiences for students in several innovative ways:\n",
      "\n",
      "1. **Adaptive content generation**: Large language models can generate customized learning materials, such as videos, articles, and exercises, tailored to individual students' needs, abilities, and interests.\n",
      "2. **Learning pathways creation**: These models can help create personalized learning pathways based on student performance data, identifying areas where they need improvement and suggesting targeted resources for support.\n",
      "3. **Intelligent tutoring systems**: Large language models can develop a conversational interface with students, providing one-on-one instruction, feedback, and guidance in real-time, making it feel like having a virtual tutor.\n",
      "4. **Automated grading and assessment**: These models can evaluate student responses, providing instant feedback on accuracy, completeness, and understanding, freeing teachers to focus on high-touch, human interaction.\n",
      "5. **Language proficiency assessment and improvement**: Large language models can assess student language skills and identify areas where they need practice, generating customized exercises and activities to help improve proficiency.\n",
      "6. **Learning analytics and insights**: These models can analyze large datasets of student interactions, providing detailed insights into learning behaviors, preferences, and needs, allowing educators to refine their instructional strategies.\n",
      "7. **Personalized content recommendations**: Large language models can suggest relevant learning resources based on individual students' interests, skills, and learning styles, helping them explore topics that fascinate them.\n",
      "8. **Simulations and gamification**: These models can create engaging simulations, games, and interactive activities that make learning more enjoyable and effective, increasing student motivation and engagement.\n",
      "9. **Accessibility and inclusivity**: Large language models can facilitate the creation of accessible learning materials for students with disabilities, such as text-to-speech functionality, closed captions, or alt-text for images.\n",
      "10. **Continuous assessment and evaluation**: These models can continuously assess student progress, identifying knowledge gaps and emerging trends in learning styles, enabling educators to adjust their teaching strategies accordingly.\n",
      "\n",
      "By leveraging the capabilities of large language models, educators can create more personalized, effective, and engaging learning experiences that cater to individual students' needs and foster a more inclusive and supportive educational environment.\n",
      "\n",
      "\n"
     ]
    }
   ],
   "source": [
    "print(together)"
   ]
  },
  {
   "cell_type": "code",
   "execution_count": 45,
   "metadata": {},
   "outputs": [],
   "source": [
    "judge = f\"\"\"You are judging a competition between {len(competitors)} competitors.\n",
    "Each model has been given this question:\n",
    "\n",
    "{question}\n",
    "\n",
    "Your job is to evaluate each response for clarity and strength of argument, and rank them in order of best to worst.\n",
    "Respond with JSON, and only JSON, with the following format:\n",
    "{{\"results\": [\"best competitor number\", \"second best competitor number\", \"third best competitor number\", ...]}}\n",
    "\n",
    "Here are the responses from each competitor:\n",
    "\n",
    "{together}\n",
    "\n",
    "Now respond with the JSON with the ranked order of the competitors, nothing else. Do not include markdown formatting or code blocks.\"\"\"\n"
   ]
  },
  {
   "cell_type": "code",
   "execution_count": 27,
   "metadata": {},
   "outputs": [
    {
     "name": "stdout",
     "output_type": "stream",
     "text": [
      "You are judging a competition between 5 competitors.\n",
      "Each model has been given this question:\n",
      "\n",
      "How would you approach the problem of reconciling differing cultural values in the development of a universal ethical framework for artificial intelligence?\n",
      "\n",
      "Your job is to evaluate each response for clarity and strength of argument, and rank them in order of best to worst.\n",
      "Respond with JSON, and only JSON, with the following format:\n",
      "{\"results\": [\"best competitor number\", \"second best competitor number\", \"third best competitor number\", ...]}\n",
      "\n",
      "Here are the responses from each competitor:\n",
      "\n",
      "# Response from competitor 1\n",
      "\n",
      "Reconciling differing cultural values in the development of a universal ethical framework for artificial intelligence (AI) is a complex and nuanced challenge. Below are steps and considerations that can guide this process:\n",
      "\n",
      "1. **Understanding Cultural Contexts**:\n",
      "   - Conduct thorough research to understand the unique cultural, ethical, and social values of various societies. This includes recognizing historical contexts, religious beliefs, and social norms that influence how different cultures perceive technology and ethics.\n",
      "\n",
      "2. **Engagement with Stakeholders**:\n",
      "   - Involve a diverse group of stakeholders in the conversation, including ethicists, technologists, policymakers, cultural leaders, and representatives from various communities. This ensures a plurality of voices and perspectives are represented.\n",
      "\n",
      "3. **Establish Core Principles**:\n",
      "   - Identify shared values that can serve as foundational principles for a global ethical framework. These might include notions of harm, fairness, accountability, privacy, and respect for individual rights.\n",
      "\n",
      "4. **Flexible Framework**:\n",
      "   - Design the ethical framework to be adaptable. While there may be core principles, allow for flexibility in their application to respect local customs and cultural differences. This could mean creating guidelines that can be interpreted and implemented in culturally specific ways.\n",
      "\n",
      "5. **Balancing Universalism and Relativism**:\n",
      "   - Aim for a balance between universal ethical standards and cultural relativism. While some principles may be universal (e.g., preventing harm), other aspects may need to be contextually adapted to align with cultural values.\n",
      "\n",
      "6. **Iterative Consultation**:\n",
      "   - Utilize an iterative process that engages with communities to refine the framework over time. Regular feedback loops can help identify areas of contention and promote understanding.\n",
      "\n",
      "7. **Education and Awareness**:\n",
      "   - Promote education about AI ethics across different cultures to foster awareness and acceptance. This might involve developing resources tailored to different cultural contexts to ensure comprehension and relevance.\n",
      "\n",
      "8. **Conflict Resolution Mechanisms**:\n",
      "   - Establish clear mechanisms for resolving disputes that arise from differing cultural values. This could involve establishing ethical boards or councils that include diverse representation to mediate disagreements.\n",
      "\n",
      "9. **Global Collaboration**:\n",
      "   - Encourage international collaboration to discuss and deliberate on ethical concerns related to AI. Forums such as the United Nations or specific intergovernmental organizations could be platforms for discourse and agreement on ethical standards.\n",
      "\n",
      "10. **Monitoring and Evaluating Impact**:\n",
      "    - Implement systems to monitor the impact of AI technologies and the ethical practices adopted. Continuous evaluation will help identify any negative consequences and inform necessary adjustments to the ethical framework.\n",
      "\n",
      "11. **Emphasizing Human-Centric Approaches**:\n",
      "    - Focus on developing AI systems that prioritize human dignity and well-being, recognizing that all cultures value the sanctity of human life and rights, though they may interpret them differently.\n",
      "\n",
      "By pursuing these strategies, it may be possible to create a more inclusive and culturally sensitive ethical framework for artificial intelligence that respects diversity while striving for universal standards.\n",
      "\n",
      "# Response from competitor 2\n",
      "\n",
      "# Reconciling Cultural Values in AI Ethics\n",
      "\n",
      "I'd approach this complex challenge through several interconnected strategies:\n",
      "\n",
      "1. **Identify shared ethical foundations** across cultures while acknowledging differences. Most cultures value concepts like preventing harm and respecting autonomy, though they may prioritize or interpret them differently.\n",
      "\n",
      "2. **Develop a multi-layered framework** with:\n",
      "   - Core universal principles (e.g., dignity, fairness)\n",
      "   - Culturally contextual implementation layers\n",
      "   - Domain-specific applications\n",
      "\n",
      "3. **Ensure inclusive representation** in the development process, involving diverse cultural perspectives, academic disciplines, and affected communities.\n",
      "\n",
      "4. **Create governance mechanisms** that allow for ongoing dialogue and adaptation as cultural values evolve.\n",
      "\n",
      "5. **Focus on practical convergence** - where complete theoretical agreement may be impossible, look for shared agreement on practical outcomes.\n",
      "\n",
      "This isn't about imposing a single ethical view but creating a framework flexible enough to respect diversity while providing sufficient guidance for responsible AI development.\n",
      "\n",
      "# Response from competitor 3\n",
      "\n",
      "Reconciling differing cultural values in the development of a universal ethical framework for AI is a complex and multifaceted challenge. Here's a breakdown of how I would approach it:\n",
      "\n",
      "**1. Acknowledge the Complexity and Diversity:**\n",
      "\n",
      "*   **Recognition is Key:** The first step is to explicitly acknowledge that ethical values are not monolithic. They are shaped by diverse cultural, religious, historical, and societal contexts.\n",
      "*   **Avoid Ethnocentrism:** We need to actively avoid imposing Western-centric or any single cultural perspective as the \"default\" or \"superior\" ethical framework.\n",
      "*   **Embrace Nuance:** Recognize that even within a single culture, there can be diverse ethical viewpoints and internal conflicts.\n",
      "\n",
      "**2. Identify Core Values and Common Ground:**\n",
      "\n",
      "*   **Cross-Cultural Dialogue:** Facilitate open and inclusive dialogues involving ethicists, philosophers, technologists, policymakers, and representatives from diverse cultural backgrounds.  Focus not just on differences, but on understanding the *reasons* behind different viewpoints.\n",
      "*   **Comparative Ethics Analysis:** Conduct in-depth analyses of ethical traditions across cultures. Identify overlapping values and principles that resonate across different societies. Examples might include:\n",
      "    *   **Respect for Human Dignity:**  While the *expression* of this might vary, the underlying principle of treating humans with inherent worth is often shared.\n",
      "    *   **Justice and Fairness:** Different cultures might have varying notions of distributive justice, but the core principle of treating people fairly is often present.\n",
      "    *   **Beneficence (Doing Good) and Non-Maleficence (Avoiding Harm):**  These are fundamental ethical principles across many cultures.\n",
      "    *   **Responsibility and Accountability:**  The idea that those who develop and deploy AI should be held responsible for its consequences is generally accepted.\n",
      "*   **Abstracting to Higher Principles:**  Focus on identifying higher-level ethical principles that can be interpreted and applied in culturally sensitive ways.  For example, instead of dictating specific privacy regulations, aim for a principle of \"respect for personal autonomy\" that can be adapted to different cultural norms around data sharing.\n",
      "\n",
      "**3. Develop a Modular and Adaptable Framework:**\n",
      "\n",
      "*   **Principle-Based, Not Rule-Based:** A universal framework should focus on establishing broad ethical principles rather than prescriptive rules that may clash with specific cultural practices.\n",
      "*   **Contextualization and Localization:**  The framework should allow for contextualization and localization. This means enabling specific cultural groups or regions to interpret and implement the framework's principles in a way that aligns with their values and norms.\n",
      "*   **Tiered Approach:** Consider a tiered approach:\n",
      "    *   **Universal Core:**  A set of universally agreed-upon core principles that are non-negotiable (e.g., prohibition of AI that promotes discrimination or violates human rights).\n",
      "    *   **Contextual Layers:**  Layers of ethical considerations that are specific to particular domains (healthcare, finance, education) and cultural contexts.\n",
      "*   **Mechanism for Feedback and Adaptation:**  The framework should not be static. It needs a mechanism for ongoing feedback, evaluation, and adaptation based on evolving cultural norms, technological advancements, and practical experience.\n",
      "\n",
      "**4. Address Key Areas of Cultural Conflict:**\n",
      "\n",
      "*   **Individualism vs. Collectivism:** AI systems might be designed to promote individual autonomy, which could clash with cultures that prioritize collective well-being.  The framework needs to find a balance that respects both.\n",
      "*   **Privacy and Data Sharing:**  Cultural norms around privacy vary significantly.  The framework needs to address data collection, usage, and sharing in a way that respects cultural differences. Transparency and user consent are crucial, but the *form* of consent might need to be tailored.\n",
      "*   **Human-AI Interaction:**  Cultural expectations around human-computer interaction differ.  The framework needs to consider how AI systems are designed to interact with humans in a culturally appropriate manner.\n",
      "*   **Definitions of Personhood and Agency:**  The increasing sophistication of AI raises questions about the definition of personhood and agency.  Different cultures may have varying perspectives on these issues. The framework needs to be sensitive to these differences and avoid making assumptions about the nature of consciousness or moral status.\n",
      "*   **Bias and Discrimination:**  Ensure that AI systems are free from biases that could discriminate against certain cultural groups or perpetuate existing inequalities. This requires careful attention to data collection, algorithm design, and model evaluation.\n",
      "\n",
      "**5. Implement Robust Governance and Oversight:**\n",
      "\n",
      "*   **Multi-Stakeholder Governance:** Establish a multi-stakeholder governance structure that includes representatives from diverse cultural backgrounds, civil society organizations, industry, and government.\n",
      "*   **Independent Auditing and Evaluation:**  Implement independent auditing and evaluation mechanisms to assess the ethical impact of AI systems and ensure compliance with the framework.\n",
      "*   **Transparency and Accountability:**  Promote transparency in the development and deployment of AI systems.  Establish clear lines of accountability for ethical violations.\n",
      "*   **Education and Awareness:**  Raise awareness about the ethical implications of AI among developers, policymakers, and the public.  Provide education and training on how to design and use AI systems in a responsible and ethical manner.\n",
      "\n",
      "**Example Scenarios and Considerations:**\n",
      "\n",
      "*   **Elderly Care Robots:** In some cultures, respecting elders is paramount.  AI-powered care robots need to be designed to reflect and reinforce these cultural values.  In other cultures, independence is valued more.\n",
      "*   **Job Applicant Screening:** AI systems that screen job applicants must be carefully evaluated for cultural biases.  Algorithms trained on data from one culture may unfairly discriminate against applicants from other cultures.\n",
      "*   **Social Credit Systems:**  The development and deployment of social credit systems raises complex ethical questions about surveillance, privacy, and freedom.  Different cultures may have varying perspectives on the acceptability of such systems.\n",
      "\n",
      "**Key Challenges:**\n",
      "\n",
      "*   **Power Imbalances:** Ensuring that all voices are heard and that the framework is not dominated by powerful interests.\n",
      "*   **Lack of Trust:** Building trust among different cultural groups is essential for successful collaboration.\n",
      "*   **Enforcement:**  Developing effective mechanisms for enforcing the framework and holding violators accountable.\n",
      "*   **Constantly Evolving Technology:** AI is rapidly evolving. The framework needs to be flexible enough to adapt to new technologies and emerging ethical challenges.\n",
      "\n",
      "By adopting a nuanced, inclusive, and adaptable approach, we can work towards developing a universal ethical framework for AI that respects cultural diversity and promotes human well-being.  It's an ongoing process of dialogue, learning, and adaptation.\n",
      "\n",
      "\n",
      "# Response from competitor 4\n",
      "\n",
      "Reconciling differing cultural values is a crucial challenge in developing a universal ethical framework for artificial intelligence (AI). Here's a step-by-step approach to address this issue:\n",
      "\n",
      "1. **Cultural Values Mapping**: Identify and catalog the diverse cultural values that are relevant to AI development and deployment. This can be achieved through literature reviews, expert interviews, and surveys. Create a comprehensive map of cultural values, including their variations and nuances.\n",
      "2. **Value Clusters**: Group similar cultural values into clusters, such as:\n",
      "\t* Respect for human life and dignity\n",
      "\t* Fairness and justice\n",
      "\t* Transparency and accountability\n",
      "\t* Privacy and data protection\n",
      "\t* Environmental sustainability\n",
      "3. **Common Ground**: Identify areas of commonality among cultural values, such as the importance of human well-being, dignity, and safety. These shared values can serve as a foundation for a universal ethical framework.\n",
      "4. **Contextualization**: Recognize that cultural values are context-dependent and may vary across different regions, countries, or communities. Consider the specific cultural, social, and economic contexts in which AI systems will be deployed.\n",
      "5. **Inclusive Stakeholder Engagement**: Engage with diverse stakeholders, including experts from various cultural backgrounds, to ensure that their values and perspectives are represented. This can involve:\n",
      "\t* Multicultural expert panels\n",
      "\t* Public consultations and surveys\n",
      "\t* Collaborations with international organizations and governments\n",
      "6. **Value-Sensitive Design**: Incorporate cultural values into the design process of AI systems, using techniques such as:\n",
      "\t* Value-based design\n",
      "\t* Human-centered design\n",
      "\t* Co-creation and participatory design\n",
      "7. **Flexible and Adaptable Framework**: Develop a framework that is flexible and adaptable to different cultural contexts. This can involve:\n",
      "\t* Modular design, allowing for customization and adaptation\n",
      "\t* Continuous monitoring and evaluation to ensure the framework remains relevant and effective\n",
      "8. **Education and Awareness**: Promote education and awareness about the importance of cultural values in AI development and deployment. This can involve:\n",
      "\t* Training programs for AI developers and deployers\n",
      "\t* Public outreach and awareness campaigns\n",
      "\t* Academic research and publications\n",
      "9. **International Cooperation**: Encourage international cooperation and collaboration to develop a universal ethical framework for AI that respects and accommodates diverse cultural values.\n",
      "10. **Continuous Review and Revision**: Regularly review and revise the framework to ensure it remains effective and relevant in light of changing cultural values and technological advancements.\n",
      "\n",
      "By following this approach, a universal ethical framework for AI can be developed that respects and accommodates diverse cultural values, while promoting a shared commitment to human well-being, dignity, and safety.\n",
      "\n",
      "**Key Considerations**\n",
      "\n",
      "* **Cultural humility**: Recognize the limitations of one's own cultural perspective and be open to learning from and incorporating diverse cultural values.\n",
      "* **Power dynamics**: Be aware of power imbalances and ensure that the framework is developed in a way that is fair, inclusive, and respectful of diverse cultural values.\n",
      "* **Technological neutrality**: Ensure that the framework is technology-neutral, focusing on the ethical implications of AI rather than the technology itself.\n",
      "\n",
      "**Challenges and Opportunities**\n",
      "\n",
      "* **Challenges**:\n",
      "\t+ Balancing universal principles with cultural diversity\n",
      "\t+ Managing power dynamics and ensuring inclusivity\n",
      "\t+ Adapting to rapid technological advancements\n",
      "* **Opportunities**:\n",
      "\t+ Developing a framework that promotes global cooperation and understanding\n",
      "\t+ Enhancing AI development and deployment with diverse cultural perspectives\n",
      "\t+ Creating a more inclusive and equitable AI ecosystem\n",
      "\n",
      "# Response from competitor 5\n",
      "\n",
      "Reconciling differing cultural values in the development of a universal ethical framework for artificial intelligence requires a multi-faceted and inclusive approach. Here's a step-by-step framework to consider:\n",
      "\n",
      "1. **Global Representation**: Engage with representatives from diverse cultures, countries, and backgrounds to ensure the input of various perspectives is considered. This can be achieved through:\n",
      "\t* International collaborations and forums.\n",
      "\t* Online engagement platforms for global communities.\n",
      "\t* In-person workshops and meetings for diverse groups.\n",
      "2. **Cultural Analysis and Contextualization**: Conduct in-depth analysis of cultural nuances and values to understand the sources of differing cultural ethics, including:\n",
      "\t* Anthropological studies of human cultures.\n",
      "\t* Analysis of historical events that shaped cultural norms.\n",
      "\t* Review of philosophical traditions contributing to different ethical frameworks (e.g., Confucianism, Buddhism, Islam).\n",
      "3. **Identify Common Goals**: Recognize shared values and objectives amidst differing cultures, such as:\n",
      "\t* Protection of life and dignity.\n",
      "\t* Prevention of harm and suffering.\n",
      "\t* Maximization of well-being and benefits.\n",
      "4. **Value Mapping and Negotiation**: Develop a value map to visualize and communicate the importance of different cultural values in AI ethics. This involves negotiating priorities between competing interests while seeking common ground. Techniques include:\n",
      "\t* Cross-cultural mediation and coalition-building.\n",
      "\t* Value-centric language for clear communication.\n",
      "5. **Contextualization and Hybrid Approach**: Develop AI systems that can adapt to diverse cultural environments, incorporating elements from various traditional ethics. For instance:\n",
      "\t* Integrating multiple cultural guidelines and frameworks (e.g., Western, Eastern, indigenous).\n",
      "\t* Context-dependent applications to ensure local compliance with specific regulations or practices.\n",
      "6. **Empirical Testing**: Implement and test the AI systems in controlled, localized settings to assess their effectiveness across different cultures. Monitoring outcomes helps refine and adapt the system as needed.\n",
      "7. **Continuous Evaluation and Adaptation**: Regularly review and update the framework to reflect new insights, emerging technologies, and updates on global social, cultural, and economic contexts.\n",
      "\n",
      "Key principles for a universal AI ethics framework must consider:\n",
      "\n",
      "1. **Humility in assumption of cultural universality**: Recognize that current values may not globally represent all human cultures or societies.\n",
      "2. **Avoidance of simplistic globalization or \"west-centric approach\"**: Incorporate perspectives from diverse backgrounds to increase validity and applicability.\n",
      "3. **Practicality with context adaptation**: Integrate hybrid approaches for flexible solutions that accommodate specific cultural needs and regulations.\n",
      "4. **Flexibility to be responsive to emergence technologies and societal developments**: Include built-in mechanisms for dynamic updating of global guidelines or adapting to unforeseen implications.\n",
      "\n",
      "By incorporating these principles into the reconciliation of differing cultural values, an AI ethics framework can incorporate diverse global perspectives while creating a balanced basis for global ethical standards.\n",
      "\n",
      "\n",
      "\n",
      "Now respond with the JSON with the ranked order of the competitors, nothing else. Do not include markdown formatting or code blocks.\n"
     ]
    }
   ],
   "source": [
    "print(judge)"
   ]
  },
  {
   "cell_type": "code",
   "execution_count": 46,
   "metadata": {},
   "outputs": [],
   "source": [
    "judge_messages = [{\"role\": \"user\", \"content\": judge}]"
   ]
  },
  {
   "cell_type": "code",
   "execution_count": 47,
   "metadata": {},
   "outputs": [
    {
     "name": "stdout",
     "output_type": "stream",
     "text": [
      "{\"results\": [\"2\", \"1\", \"3\", \"4\"]}\n"
     ]
    }
   ],
   "source": [
    "# Judgement time!\n",
    "\n",
    "openai = OpenAI()\n",
    "response = openai.chat.completions.create(\n",
    "    model=\"o3-mini\",\n",
    "    messages=judge_messages,\n",
    ")\n",
    "results = response.choices[0].message.content\n",
    "print(results)\n"
   ]
  },
  {
   "cell_type": "code",
   "execution_count": 48,
   "metadata": {},
   "outputs": [
    {
     "name": "stdout",
     "output_type": "stream",
     "text": [
      "Rank 1: gemini-2.0-flash\n",
      "Rank 2: gpt-4o-mini\n",
      "Rank 3: llama-3.3-70b-versatile\n",
      "Rank 4: llama3.2\n"
     ]
    }
   ],
   "source": [
    "# OK let's turn this into results!\n",
    "\n",
    "results_dict = json.loads(results)\n",
    "ranks = results_dict[\"results\"]\n",
    "for index, result in enumerate(ranks):\n",
    "    competitor = competitors[int(result)-1]\n",
    "    print(f\"Rank {index+1}: {competitor}\")"
   ]
  },
  {
   "cell_type": "code",
   "execution_count": null,
   "metadata": {},
   "outputs": [],
   "source": [
    "#"
   ]
  },
  {
   "cell_type": "markdown",
   "metadata": {},
   "source": [
    "<table style=\"margin: 0; text-align: left; width:100%\">\n",
    "    <tr>\n",
    "        <td style=\"width: 150px; height: 150px; vertical-align: middle;\">\n",
    "            <img src=\"../assets/exercise.png\" width=\"150\" height=\"150\" style=\"display: block;\" />\n",
    "        </td>\n",
    "        <td>\n",
    "            <h2 style=\"color:#ff7800;\">Exercise</h2>\n",
    "            <span style=\"color:#ff7800;\">Which pattern(s) did this use? Try updating this to add another Agentic design pattern.\n",
    "            </span>\n",
    "        </td>\n",
    "    </tr>\n",
    "</table>"
   ]
  },
  {
   "cell_type": "markdown",
   "metadata": {},
   "source": [
    "<table style=\"margin: 0; text-align: left; width:100%\">\n",
    "    <tr>\n",
    "        <td style=\"width: 150px; height: 150px; vertical-align: middle;\">\n",
    "            <img src=\"../assets/business.png\" width=\"150\" height=\"150\" style=\"display: block;\" />\n",
    "        </td>\n",
    "        <td>\n",
    "            <h2 style=\"color:#00bfff;\">Commercial implications</h2>\n",
    "            <span style=\"color:#00bfff;\">These kinds of patterns - to send a task to multiple models, and evaluate results,\n",
    "            are common where you need to improve the quality of your LLM response. This approach can be universally applied\n",
    "            to business projects where accuracy is critical.\n",
    "            </span>\n",
    "        </td>\n",
    "    </tr>\n",
    "</table>"
   ]
  }
 ],
 "metadata": {
  "kernelspec": {
   "display_name": ".venv",
   "language": "python",
   "name": "python3"
  },
  "language_info": {
   "codemirror_mode": {
    "name": "ipython",
    "version": 3
   },
   "file_extension": ".py",
   "mimetype": "text/x-python",
   "name": "python",
   "nbconvert_exporter": "python",
   "pygments_lexer": "ipython3",
   "version": "3.12.7"
  }
 },
 "nbformat": 4,
 "nbformat_minor": 2
}
